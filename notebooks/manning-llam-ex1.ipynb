{
 "cells": [
  {
   "cell_type": "markdown",
   "id": "412c2ad4-7273-44e9-b3a8-01cb4ebc6c5b",
   "metadata": {},
   "source": [
    "## Manning Live Project - Building Domain-Specific Language Models\n",
    "### Excercise 1"
   ]
  },
  {
   "cell_type": "markdown",
   "id": "d1188779-b654-4d71-ae05-7e5f73e1144c",
   "metadata": {},
   "source": [
    "#### Objective\n",
    "The raw text is noisy and we want to remove nonwords and non-ASCII characters, keep punctuation to a minimum, and reduce the overall vocabulary of the corpus."
   ]
  },
  {
   "cell_type": "code",
   "execution_count": 2,
   "id": "beb1d83c-840a-496c-8645-0bc78bf0232b",
   "metadata": {},
   "outputs": [],
   "source": [
    "import re\n",
    "import pandas as pd\n",
    "from nltk.tokenize import word_tokenize"
   ]
  },
  {
   "cell_type": "code",
   "execution_count": 31,
   "id": "538a7321-2e11-42e1-9af3-b51c32949555",
   "metadata": {},
   "outputs": [],
   "source": [
    "regex_library = {\n",
    "        'latex_eq':'\\$.*?\\$',\n",
    "        'html_tags' : '<.*?>',\n",
    "        'per_sign' : '%',\n",
    "        'http_link' : \"http\\S+\",\n",
    "        'math_fomula': '[a-z]*[0-9]* *\\~([a-z]*[0-9]* *\\+)* *[a-z]*[0-9]*',\n",
    "        'code_params' : '[a-z_]*=[\\'|\\\"]*[0-9a-z_]*',\n",
    "        'new_lines' : '\\n'\n",
    "    }\n",
    "\n",
    "def clean_text(text :str, clean_patt : dict, to_lower : bool = True)-> str:\n",
    "    \"\"\" Clean the text data for NLP using reguler expressions\n",
    "        :param text: Text data\n",
    "        :param clean_patt: regex patterns to relace by space\n",
    "        :parm to_lower: indicated if the text to be lowercased or not\n",
    "        :returns clean_text: clean text data\n",
    "    \"\"\"\n",
    "    sub_values = r'|'.join(list(clean_patt.values()))\n",
    "    multiple_spaces = r'\\s+'\n",
    "    \n",
    "    if len(text.strip()) > 2:\n",
    "        clean_text = re.sub(sub_values,'',text.lower().strip())\n",
    "        clean_text = re.sub(multiple_spaces,' ',clean_text)\n",
    "    else:\n",
    "        clean_text = text\n",
    "    \n",
    "    return clean_text"
   ]
  },
  {
   "cell_type": "markdown",
   "id": "ecd50ec8-4a65-4288-b8d0-beef7e7721a6",
   "metadata": {},
   "source": [
    "### Load the Data"
   ]
  },
  {
   "cell_type": "code",
   "execution_count": 32,
   "id": "bce552c6-f37e-4a54-8166-f8da9ce295c1",
   "metadata": {},
   "outputs": [],
   "source": [
    "sof_data = pd.read_csv(\"../data/stackexchange_812k.csv\",\n",
    "                       low_memory=True)"
   ]
  },
  {
   "cell_type": "code",
   "execution_count": 33,
   "id": "964213ac-039b-45e4-8d74-7f4325384039",
   "metadata": {},
   "outputs": [
    {
     "data": {
      "text/html": [
       "<div>\n",
       "<style scoped>\n",
       "    .dataframe tbody tr th:only-of-type {\n",
       "        vertical-align: middle;\n",
       "    }\n",
       "\n",
       "    .dataframe tbody tr th {\n",
       "        vertical-align: top;\n",
       "    }\n",
       "\n",
       "    .dataframe thead th {\n",
       "        text-align: right;\n",
       "    }\n",
       "</style>\n",
       "<table border=\"1\" class=\"dataframe\">\n",
       "  <thead>\n",
       "    <tr style=\"text-align: right;\">\n",
       "      <th></th>\n",
       "      <th>post_id</th>\n",
       "      <th>parent_id</th>\n",
       "      <th>comment_id</th>\n",
       "      <th>text</th>\n",
       "      <th>category</th>\n",
       "    </tr>\n",
       "  </thead>\n",
       "  <tbody>\n",
       "    <tr>\n",
       "      <th>0</th>\n",
       "      <td>1</td>\n",
       "      <td>NaN</td>\n",
       "      <td>NaN</td>\n",
       "      <td>Eliciting priors from experts</td>\n",
       "      <td>title</td>\n",
       "    </tr>\n",
       "  </tbody>\n",
       "</table>\n",
       "</div>"
      ],
      "text/plain": [
       "   post_id  parent_id  comment_id                           text category\n",
       "0        1        NaN         NaN  Eliciting priors from experts    title"
      ]
     },
     "execution_count": 33,
     "metadata": {},
     "output_type": "execute_result"
    }
   ],
   "source": [
    "sof_data.head(1)"
   ]
  },
  {
   "cell_type": "code",
   "execution_count": 34,
   "id": "a22da05a-ffdc-469c-b531-d2060e338be7",
   "metadata": {},
   "outputs": [],
   "source": [
    "sof_data['clean_text'] = sof_data.text.apply(clean_text,\n",
    "                                             args=(regex_library,True))"
   ]
  },
  {
   "cell_type": "code",
   "execution_count": 35,
   "id": "2f78a31f-252e-4fef-bd26-0456d6cdfdd6",
   "metadata": {},
   "outputs": [
    {
     "data": {
      "text/html": [
       "<div>\n",
       "<style scoped>\n",
       "    .dataframe tbody tr th:only-of-type {\n",
       "        vertical-align: middle;\n",
       "    }\n",
       "\n",
       "    .dataframe tbody tr th {\n",
       "        vertical-align: top;\n",
       "    }\n",
       "\n",
       "    .dataframe thead th {\n",
       "        text-align: right;\n",
       "    }\n",
       "</style>\n",
       "<table border=\"1\" class=\"dataframe\">\n",
       "  <thead>\n",
       "    <tr style=\"text-align: right;\">\n",
       "      <th></th>\n",
       "      <th>post_id</th>\n",
       "      <th>parent_id</th>\n",
       "      <th>comment_id</th>\n",
       "      <th>text</th>\n",
       "      <th>category</th>\n",
       "      <th>clean_text</th>\n",
       "    </tr>\n",
       "  </thead>\n",
       "  <tbody>\n",
       "    <tr>\n",
       "      <th>0</th>\n",
       "      <td>1</td>\n",
       "      <td>NaN</td>\n",
       "      <td>NaN</td>\n",
       "      <td>Eliciting priors from experts</td>\n",
       "      <td>title</td>\n",
       "      <td>eliciting priors from experts</td>\n",
       "    </tr>\n",
       "  </tbody>\n",
       "</table>\n",
       "</div>"
      ],
      "text/plain": [
       "   post_id  parent_id  comment_id                           text category  \\\n",
       "0        1        NaN         NaN  Eliciting priors from experts    title   \n",
       "\n",
       "                      clean_text  \n",
       "0  eliciting priors from experts  "
      ]
     },
     "execution_count": 35,
     "metadata": {},
     "output_type": "execute_result"
    }
   ],
   "source": [
    "sof_data.head(1)"
   ]
  },
  {
   "cell_type": "code",
   "execution_count": 42,
   "id": "e8c1e615-427f-4e29-b310-ab7660617867",
   "metadata": {},
   "outputs": [],
   "source": [
    "sof_data['tokens'] = sof_data.clean_text.apply(word_tokenize,\n",
    "                                             args=('english',False))"
   ]
  },
  {
   "cell_type": "code",
   "execution_count": 43,
   "id": "ff8997e3-8ea7-4baf-bf92-9e498bf1d432",
   "metadata": {},
   "outputs": [
    {
     "data": {
      "text/html": [
       "<div>\n",
       "<style scoped>\n",
       "    .dataframe tbody tr th:only-of-type {\n",
       "        vertical-align: middle;\n",
       "    }\n",
       "\n",
       "    .dataframe tbody tr th {\n",
       "        vertical-align: top;\n",
       "    }\n",
       "\n",
       "    .dataframe thead th {\n",
       "        text-align: right;\n",
       "    }\n",
       "</style>\n",
       "<table border=\"1\" class=\"dataframe\">\n",
       "  <thead>\n",
       "    <tr style=\"text-align: right;\">\n",
       "      <th></th>\n",
       "      <th>post_id</th>\n",
       "      <th>parent_id</th>\n",
       "      <th>comment_id</th>\n",
       "      <th>text</th>\n",
       "      <th>category</th>\n",
       "      <th>clean_text</th>\n",
       "      <th>tokens</th>\n",
       "    </tr>\n",
       "  </thead>\n",
       "  <tbody>\n",
       "    <tr>\n",
       "      <th>0</th>\n",
       "      <td>1</td>\n",
       "      <td>NaN</td>\n",
       "      <td>NaN</td>\n",
       "      <td>Eliciting priors from experts</td>\n",
       "      <td>title</td>\n",
       "      <td>eliciting priors from experts</td>\n",
       "      <td>[eliciting, priors, from, experts]</td>\n",
       "    </tr>\n",
       "  </tbody>\n",
       "</table>\n",
       "</div>"
      ],
      "text/plain": [
       "   post_id  parent_id  comment_id                           text category  \\\n",
       "0        1        NaN         NaN  Eliciting priors from experts    title   \n",
       "\n",
       "                      clean_text                              tokens  \n",
       "0  eliciting priors from experts  [eliciting, priors, from, experts]  "
      ]
     },
     "execution_count": 43,
     "metadata": {},
     "output_type": "execute_result"
    }
   ],
   "source": [
    "sof_data.head(1)"
   ]
  },
  {
   "cell_type": "code",
   "execution_count": null,
   "id": "79fb5fbc-1d58-4a2e-be8f-03972e47d027",
   "metadata": {},
   "outputs": [],
   "source": [
    "sof_data.head(10).to_csv(../data/sample_res.csv')"
   ]
  }
 ],
 "metadata": {
  "kernelspec": {
   "display_name": "Python 3",
   "language": "python",
   "name": "python3"
  },
  "language_info": {
   "codemirror_mode": {
    "name": "ipython",
    "version": 3
   },
   "file_extension": ".py",
   "mimetype": "text/x-python",
   "name": "python",
   "nbconvert_exporter": "python",
   "pygments_lexer": "ipython3",
   "version": "3.8.8"
  }
 },
 "nbformat": 4,
 "nbformat_minor": 5
}
